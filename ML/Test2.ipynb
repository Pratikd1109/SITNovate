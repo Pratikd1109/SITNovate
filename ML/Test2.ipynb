{
 "cells": [
  {
   "cell_type": "code",
   "execution_count": null,
   "metadata": {},
   "outputs": [],
   "source": [
    "import torch\n",
    "from transformers import PegasusForConditionalGeneration\n",
    "\n",
    "# ✅ Set Paths\n",
    "model_bin_path = r\"E:\\Backend\\Research_ArticalsModel\\pytorch_model.bin\"  # Path to your downloaded model\n",
    "save_pt_path = r\"E:\\Backend\\Models\\pegasus_xsum_model.pt\"  # Path to save .pt file\n",
    "\n",
    "# ✅ Load Pegasus-XSum Model Structure\n",
    "model = PegasusForConditionalGeneration.from_pretrained(\"google/pegasus-xsum\", state_dict=torch.load(model_bin_path, map_location=\"cpu\"))\n",
    "\n",
    "# ✅ Save as .pt (state_dict only)\n",
    "torch.save(model.state_dict(), save_pt_path)\n",
    "\n",
    "print(\"Converted pytorch_model.bin to .pt successfully! ✅\")\n"
   ]
  },
  {
   "cell_type": "code",
   "execution_count": 1,
   "metadata": {},
   "outputs": [
    {
     "name": "stderr",
     "output_type": "stream",
     "text": [
      "Some weights of PegasusForConditionalGeneration were not initialized from the model checkpoint at google/pegasus-xsum and are newly initialized: ['model.decoder.embed_positions.weight', 'model.encoder.embed_positions.weight']\n",
      "You should probably TRAIN this model on a down-stream task to be able to use it for predictions and inference.\n",
      "C:\\Users\\ASUS\\AppData\\Local\\Temp\\ipykernel_3784\\834705595.py:11: FutureWarning: You are using `torch.load` with `weights_only=False` (the current default value), which uses the default pickle module implicitly. It is possible to construct malicious pickle data which will execute arbitrary code during unpickling (See https://github.com/pytorch/pytorch/blob/main/SECURITY.md#untrusted-models for more details). In a future release, the default value for `weights_only` will be flipped to `True`. This limits the functions that could be executed during unpickling. Arbitrary objects will no longer be allowed to be loaded via this mode unless they are explicitly allowlisted by the user via `torch.serialization.add_safe_globals`. We recommend you start setting `weights_only=True` for any use case where you don't have full control of the loaded file. Please open an issue on GitHub for any issues related to this experimental feature.\n",
      "  checkpoint = torch.load(pt_model_path, map_location=\"cpu\")\n"
     ]
    },
    {
     "data": {
      "application/vnd.jupyter.widget-view+json": {
       "model_id": "16f9f6871bbe4293b7f0547fdb6f95f9",
       "version_major": 2,
       "version_minor": 0
      },
      "text/plain": [
       "tokenizer_config.json:   0%|          | 0.00/87.0 [00:00<?, ?B/s]"
      ]
     },
     "metadata": {},
     "output_type": "display_data"
    },
    {
     "name": "stderr",
     "output_type": "stream",
     "text": [
      "C:\\Users\\ASUS\\AppData\\Roaming\\Python\\Python312\\site-packages\\huggingface_hub\\file_download.py:142: UserWarning: `huggingface_hub` cache-system uses symlinks by default to efficiently store duplicated files but your machine does not support them in C:\\Users\\ASUS\\.cache\\huggingface\\hub\\models--google--pegasus-xsum. Caching files will still work but in a degraded version that might require more space on your disk. This warning can be disabled by setting the `HF_HUB_DISABLE_SYMLINKS_WARNING` environment variable. For more details, see https://huggingface.co/docs/huggingface_hub/how-to-cache#limitations.\n",
      "To support symlinks on Windows, you either need to activate Developer Mode or to run Python as an administrator. In order to activate developer mode, see this article: https://docs.microsoft.com/en-us/windows/apps/get-started/enable-your-device-for-development\n",
      "  warnings.warn(message)\n"
     ]
    },
    {
     "data": {
      "application/vnd.jupyter.widget-view+json": {
       "model_id": "8b31cad646ae495cb395fc91339a83ba",
       "version_major": 2,
       "version_minor": 0
      },
      "text/plain": [
       "spiece.model:   0%|          | 0.00/1.91M [00:00<?, ?B/s]"
      ]
     },
     "metadata": {},
     "output_type": "display_data"
    },
    {
     "data": {
      "application/vnd.jupyter.widget-view+json": {
       "model_id": "841e1d9181394c3697aa84b3fc959681",
       "version_major": 2,
       "version_minor": 0
      },
      "text/plain": [
       "tokenizer.json:   0%|          | 0.00/3.52M [00:00<?, ?B/s]"
      ]
     },
     "metadata": {},
     "output_type": "display_data"
    },
    {
     "data": {
      "application/vnd.jupyter.widget-view+json": {
       "model_id": "7e0fa2df78a946989a3ba2812d7f2ce0",
       "version_major": 2,
       "version_minor": 0
      },
      "text/plain": [
       "special_tokens_map.json:   0%|          | 0.00/65.0 [00:00<?, ?B/s]"
      ]
     },
     "metadata": {},
     "output_type": "display_data"
    },
    {
     "name": "stdout",
     "output_type": "stream",
     "text": [
      "Pegasus-XSum model loaded successfully! ✅\n"
     ]
    }
   ],
   "source": [
    "import torch\n",
    "from transformers import PegasusForConditionalGeneration, AutoTokenizer\n",
    "\n",
    "# ✅ Set Paths\n",
    "pt_model_path = r\"E:\\Backend\\Models\\pegasus_xsum_model.pt\"\n",
    "\n",
    "# ✅ Load Model Architecture\n",
    "model = PegasusForConditionalGeneration.from_pretrained(\"google/pegasus-xsum\")\n",
    "\n",
    "# ✅ Load Saved Weights\n",
    "checkpoint = torch.load(pt_model_path, map_location=\"cpu\")\n",
    "model.load_state_dict(checkpoint, strict=False)\n",
    "\n",
    "# ✅ Move Model to GPU (if available)\n",
    "device = torch.device(\"cuda\" if torch.cuda.is_available() else \"cpu\")\n",
    "model.to(device)\n",
    "model.eval()\n",
    "\n",
    "# ✅ Load Tokenizer\n",
    "tokenizer = AutoTokenizer.from_pretrained(\"google/pegasus-xsum\")\n",
    "\n",
    "print(\"Pegasus-XSum model loaded successfully! ✅\")\n",
    "\n",
    "\n"
   ]
  },
  {
   "cell_type": "code",
   "execution_count": 1,
   "metadata": {},
   "outputs": [
    {
     "name": "stderr",
     "output_type": "stream",
     "text": [
      "Some weights of PegasusForConditionalGeneration were not initialized from the model checkpoint at google/pegasus-xsum and are newly initialized: ['model.decoder.embed_positions.weight', 'model.encoder.embed_positions.weight']\n",
      "You should probably TRAIN this model on a down-stream task to be able to use it for predictions and inference.\n",
      "C:\\Users\\ASUS\\AppData\\Local\\Temp\\ipykernel_21080\\1369979270.py:11: FutureWarning: You are using `torch.load` with `weights_only=False` (the current default value), which uses the default pickle module implicitly. It is possible to construct malicious pickle data which will execute arbitrary code during unpickling (See https://github.com/pytorch/pytorch/blob/main/SECURITY.md#untrusted-models for more details). In a future release, the default value for `weights_only` will be flipped to `True`. This limits the functions that could be executed during unpickling. Arbitrary objects will no longer be allowed to be loaded via this mode unless they are explicitly allowlisted by the user via `torch.serialization.add_safe_globals`. We recommend you start setting `weights_only=True` for any use case where you don't have full control of the loaded file. Please open an issue on GitHub for any issues related to this experimental feature.\n",
      "  checkpoint = torch.load(pt_model_path, map_location=\"cpu\")\n"
     ]
    },
    {
     "name": "stdout",
     "output_type": "stream",
     "text": [
      "\n",
      "🔹 **Original Text:**\n",
      "The Pegasus model is a transformer-based architecture designed for abstractive text summarization. \n",
      "          It has been fine-tuned on multiple datasets, including the XSum dataset, to generate high-quality summaries.\n",
      "\n",
      "🔹 **Generated Summary:**\n",
      "In this paper, we present a novel model for extracting summaries from large amounts of text.\n"
     ]
    }
   ],
   "source": [
    "import torch\n",
    "from transformers import PegasusForConditionalGeneration, AutoTokenizer\n",
    "\n",
    "# ✅ Set Paths\n",
    "pt_model_path = r\"E:\\Backend\\Models\\pegasus_xsum_model.pt\"\n",
    "\n",
    "# ✅ Load Model Architecture\n",
    "model = PegasusForConditionalGeneration.from_pretrained(\"google/pegasus-xsum\")\n",
    "\n",
    "# ✅ Load Saved Weights\n",
    "checkpoint = torch.load(pt_model_path, map_location=\"cpu\")\n",
    "model.load_state_dict(checkpoint, strict=False)\n",
    "\n",
    "# ✅ Move Model to GPU (if available)\n",
    "device = torch.device(\"cuda\" if torch.cuda.is_available() else \"cpu\")\n",
    "model.to(device)\n",
    "model.eval()\n",
    "\n",
    "# ✅ Load Tokenizer\n",
    "tokenizer = AutoTokenizer.from_pretrained(\"google/pegasus-xsum\")\n",
    "\n",
    "# ✅ Sample Input Text\n",
    "text = \"\"\"The Pegasus model is a transformer-based architecture designed for abstractive text summarization. \n",
    "          It has been fine-tuned on multiple datasets, including the XSum dataset, to generate high-quality summaries.\"\"\"\n",
    "\n",
    "# ✅ Encode Input Text\n",
    "inputs = tokenizer(text, return_tensors=\"pt\", max_length=512, truncation=True)\n",
    "\n",
    "# ✅ Move Input to GPU (if available)\n",
    "inputs = {k: v.to(device) for k, v in inputs.items()}\n",
    "\n",
    "# ✅ Generate Summary\n",
    "with torch.no_grad():\n",
    "    summary_ids = model.generate(**inputs, max_length=60, num_beams=5, early_stopping=True)\n",
    "\n",
    "# ✅ Decode Summary\n",
    "summary = tokenizer.decode(summary_ids[0], skip_special_tokens=True)\n",
    "\n",
    "# ✅ Print Result\n",
    "print(\"\\n🔹 **Original Text:**\")\n",
    "print(text)\n",
    "print(\"\\n🔹 **Generated Summary:**\")\n",
    "print(summary)\n"
   ]
  }
 ],
 "metadata": {
  "kernelspec": {
   "display_name": "base",
   "language": "python",
   "name": "python3"
  },
  "language_info": {
   "codemirror_mode": {
    "name": "ipython",
    "version": 3
   },
   "file_extension": ".py",
   "mimetype": "text/x-python",
   "name": "python",
   "nbconvert_exporter": "python",
   "pygments_lexer": "ipython3",
   "version": "3.12.4"
  }
 },
 "nbformat": 4,
 "nbformat_minor": 2
}
